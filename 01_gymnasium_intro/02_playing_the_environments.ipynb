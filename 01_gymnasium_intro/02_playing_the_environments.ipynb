{
 "cells": [
  {
   "cell_type": "markdown",
   "metadata": {},
   "source": [
    "### Frozen Lake"
   ]
  },
  {
   "cell_type": "code",
   "execution_count": 4,
   "metadata": {},
   "outputs": [
    {
     "ename": "SyntaxError",
     "evalue": "invalid syntax. Perhaps you forgot a comma? (2778125637.py, line 16)",
     "output_type": "error",
     "traceback": [
      "\u001b[0;36m  Cell \u001b[0;32mIn[4], line 16\u001b[0;36m\u001b[0m\n\u001b[0;31m    play(gym.make(\"FrozenLake-v1\", map_name=\"8x8\" render_mode=\"rgb_array\", is_slippery=False), keys_to_action={\u001b[0m\n\u001b[0m                                            ^\u001b[0m\n\u001b[0;31mSyntaxError\u001b[0m\u001b[0;31m:\u001b[0m invalid syntax. Perhaps you forgot a comma?\n"
     ]
    }
   ],
   "source": [
    "import gymnasium as gym\n",
    "from gymnasium.utils.play import play\n",
    "import numpy as np\n",
    "\n",
    "# 4x4 Map of the FrozenLake environment:\n",
    "# The agent is S (start), the goal is G, H are holes and F are frozen tiles\n",
    "# Mapa 4x4 del entorno FrozenLake:\n",
    "# El agente es S (inicio), el objetivo es G, H son agujeros y F son casillas congeladas\n",
    "map = [\n",
    "    \"SFFF\",\n",
    "    \"FHFH\",\n",
    "    \"FFFH\",\n",
    "    \"HFFG\"\n",
    "]\n",
    "\n",
    "play(gym.make(\"FrozenLake-v1\", map_name=\"8x8\" render_mode=\"rgb_array\", is_slippery=False), keys_to_action={\n",
    "    # action keys: Used to map keys on the keyboard to actions in the environment\n",
    "    # teclas de acción: Se utilizan para mapear las teclas del teclado a acciones en el entorno\n",
    "    \"a\": 0,\n",
    "    \"s\": 1,\n",
    "    \"d\": 2,\n",
    "    \"w\": 3\n",
    "}, noop=0)"
   ]
  },
  {
   "cell_type": "markdown",
   "metadata": {},
   "source": [
    "### Car Racing"
   ]
  },
  {
   "cell_type": "code",
   "execution_count": 1,
   "metadata": {},
   "outputs": [],
   "source": [
    "import gymnasium as gym\n",
    "from gymnasium.utils.play import play\n",
    "import numpy as np\n",
    "\n",
    "play(gym.make(\"CarRacing-v2\", render_mode=\"rgb_array\"), keys_to_action={\n",
    "    # action keys: Used to map keys on the keyboard to actions in the environment\n",
    "    # teclas de acción: Se utilizan para mapear las teclas del teclado a acciones en el entorno\n",
    "    \"w\": np.array([0, 0.7, 0]),\n",
    "    \"a\": np.array([-1, 0, 0]),\n",
    "    \"s\": np.array([0, 0, 1]),\n",
    "    \"d\": np.array([1, 0, 0]),\n",
    "    \"wa\": np.array([-1, 0.7, 0]),\n",
    "    \"dw\": np.array([1, 0.7, 0]),\n",
    "    \"ds\": np.array([1, 0, 1]),\n",
    "    \"as\": np.array([-1, 0, 1]),\n",
    "}, noop=np.array([0,0,0]))"
   ]
  },
  {
   "cell_type": "markdown",
   "metadata": {},
   "source": [
    "### Flappy Bird"
   ]
  },
  {
   "cell_type": "code",
   "execution_count": 5,
   "metadata": {},
   "outputs": [
    {
     "name": "stderr",
     "output_type": "stream",
     "text": [
      "/workspaces/AI_Pygame_Playground/venv/lib/python3.12/site-packages/gymnasium/utils/passive_env_checker.py:159: UserWarning: \u001b[33mWARN: The obs returned by the `reset()` method is not within the observation space.\u001b[0m\n",
      "  logger.warn(f\"{pre} is not within the observation space.\")\n",
      "/workspaces/AI_Pygame_Playground/venv/lib/python3.12/site-packages/gymnasium/utils/passive_env_checker.py:159: UserWarning: \u001b[33mWARN: The obs returned by the `step()` method is not within the observation space.\u001b[0m\n",
      "  logger.warn(f\"{pre} is not within the observation space.\")\n"
     ]
    }
   ],
   "source": [
    "import gymnasium as gym\n",
    "from gymnasium.utils.play import play\n",
    "import numpy as np\n",
    "\n",
    "play(gym.make(\"FlappyBird-v0\", render_mode=\"rgb_array\"), keys_to_action={\n",
    "    # action keys: Used to map keys on the keyboard to actions in the environment\n",
    "    # teclas de acción: Se utilizan para mapear las teclas del teclado a acciones en el entorno\n",
    "    \"w\": 1\n",
    "}, noop=0)\n"
   ]
  }
 ],
 "metadata": {
  "kernelspec": {
   "display_name": "venv",
   "language": "python",
   "name": "python3"
  },
  "language_info": {
   "codemirror_mode": {
    "name": "ipython",
    "version": 3
   },
   "file_extension": ".py",
   "mimetype": "text/x-python",
   "name": "python",
   "nbconvert_exporter": "python",
   "pygments_lexer": "ipython3",
   "version": "3.10.13"
  }
 },
 "nbformat": 4,
 "nbformat_minor": 2
}
